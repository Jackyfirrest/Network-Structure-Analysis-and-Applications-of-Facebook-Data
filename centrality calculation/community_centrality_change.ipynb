{
 "cells": [
  {
   "cell_type": "code",
   "execution_count": 1,
   "metadata": {},
   "outputs": [],
   "source": [
    "import pickle\n",
    "from dataclasses import dataclass\n",
    "from typing import Dict\n"
   ]
  },
  {
   "cell_type": "code",
   "execution_count": 2,
   "metadata": {},
   "outputs": [],
   "source": [
    "\n",
    "@dataclass\n",
    "class CommunityStat:\n",
    "    week: str\n",
    "    trump_community:list\n",
    "    clinton_community:list\n",
    "    other_community:list\n",
    "\n",
    "    def filter_by_centrality(self, centrality_list):\n",
    "        self.trump_community = [id for id in self.trump_community if id in centrality_list]\n",
    "        self.clinton_community = [id for id in self.clinton_community if id in centrality_list]\n",
    "        self.other_community = [id for id in self.other_community if id in centrality_list]\n",
    "        return self\n",
    "    \n",
    "    @property\n",
    "    def dict(self):\n",
    "        self.__dict = dict()\n",
    "        self.__dict.update({t:1 for t in self.trump_community})\n",
    "        self.__dict.update({c:2 for c in self.clinton_community})\n",
    "        self.__dict.update({o:3 for o in self.other_community})\n",
    "\n",
    "        return self.__dict\n",
    "\n",
    "    def average_centrality(self, week_centrality:Dict):\n",
    "        \"\"\"\n",
    "            week_centrality : {\n",
    "                182739503862  : 0.73,\n",
    "                9672727986293 : 0.23,...\n",
    "            }\n",
    "        \"\"\"\n",
    "        import numpy as np\n",
    "        trump_centrality = np.mean([week_centrality[id] for id in self.trump_community ])\n",
    "        clinton_centrality = np.mean([week_centrality[id] for id in self.clinton_community ])\n",
    "        other_centrality = np.mean([week_centrality[id] for id in self.other_community ])\n",
    "\n",
    "        return (trump_centrality, clinton_centrality, other_centrality)\n"
   ]
  },
  {
   "cell_type": "code",
   "execution_count": 3,
   "metadata": {},
   "outputs": [],
   "source": [
    "from typing import List\n",
    "import pandas as pd\n",
    "\n",
    "\n",
    "all_centrality = pd.read_csv('Full_centrality.csv', index_col=0)\n",
    "weeks = sorted(all_centrality.week.unique())\n",
    "centrality_types = all_centrality.columns[1:-1] # 0: pageid, -0: week\n",
    "    \n",
    "trump_page_id = 153080620724\n",
    "clinton_page_id = 889307941125736\n",
    "\n",
    "page_with_names = pd.read_csv(\"page_name_map.csv\")\n",
    "filter_list = list(page_with_names.page_id)\n"
   ]
  },
  {
   "cell_type": "code",
   "execution_count": 4,
   "metadata": {},
   "outputs": [],
   "source": [
    "community_week_change:List[CommunityStat] = []\n",
    "\n",
    "for week in weeks:\n",
    "    week_string = str(week)[:10]\n",
    "\n",
    "    # load community in week\n",
    "    with open(f\"Result/{week_string}_community_detection.pkl\", 'rb') as f:\n",
    "        community = pickle.load(file = f)\n",
    "\n",
    "    trump_community = []\n",
    "    clinton_community = []\n",
    "    other = []\n",
    "\n",
    "    for i, layer in enumerate(community):\n",
    "        # find Trump\n",
    "        if trump_page_id in layer:\n",
    "            trump_community = list(layer)\n",
    "            continue\n",
    "        # fund clinton\n",
    "        if clinton_page_id in layer:\n",
    "            clinton_community = list(layer)\n",
    "            continue\n",
    "        other += layer\n",
    "    \n",
    "    community_week_change.append(\n",
    "        CommunityStat(\n",
    "            week_string,\n",
    "            trump_community,\n",
    "            clinton_community, \n",
    "            other).filter_by_centrality(filter_list)\n",
    "        )\n",
    "\n",
    "    \n",
    "    "
   ]
  },
  {
   "cell_type": "code",
   "execution_count": 5,
   "metadata": {},
   "outputs": [],
   "source": [
    "import pandas as pd\n",
    "pn_df = pd.read_csv(\"page_name_map.csv\", index_col=0)\n",
    "\n",
    "community_df = pd.DataFrame({'page_id':list(community_week_change[0].dict.keys())})\n",
    "\n",
    "c:CommunityStat\n",
    "for i,c in enumerate(community_week_change):\n",
    "    temp_df = pd.DataFrame({\n",
    "        'page_id':list(c.dict.keys()),\n",
    "        f'week_{i}_community': list(c.dict.values())\n",
    "        })\n",
    "    community_df = community_df.join(temp_df.set_index('page_id'), on='page_id')"
   ]
  },
  {
   "cell_type": "code",
   "execution_count": 6,
   "metadata": {},
   "outputs": [],
   "source": [
    "## average centrality within each community\n",
    "\n",
    "avg_centrality_panel = pd.DataFrame()\n",
    "\n",
    "for i, week in enumerate(weeks):\n",
    "    week_str = str(week)[:10]\n",
    "    this_week_df = all_centrality[all_centrality.week == week]\n",
    "    dict_for_df = dict({\n",
    "        'week': [week_str]*3,\n",
    "        'community':['Trump', 'Clinton', 'others']\n",
    "    })\n",
    "\n",
    "    for centrality_string in centrality_types:\n",
    "        centrality_dict = dict(\n",
    "        zip(this_week_df.page_id, this_week_df[centrality_string]))\n",
    "        dict_for_df[centrality_string] = community_week_change[i].average_centrality(centrality_dict)\n",
    "    avg_centrality_panel = avg_centrality_panel.append(pd.DataFrame(dict_for_df))"
   ]
  },
  {
   "cell_type": "code",
   "execution_count": 7,
   "metadata": {},
   "outputs": [],
   "source": [
    "\n",
    "\n",
    "avg_centrality_panel.to_csv(\"avg_centrality_panel.csv\", index = False)"
   ]
  },
  {
   "cell_type": "code",
   "execution_count": 21,
   "metadata": {},
   "outputs": [
    {
     "data": {
      "text/plain": [
       "['a', 'a', 'a']"
      ]
     },
     "execution_count": 21,
     "metadata": {},
     "output_type": "execute_result"
    }
   ],
   "source": [
    "['a']*3"
   ]
  },
  {
   "cell_type": "code",
   "execution_count": null,
   "metadata": {},
   "outputs": [],
   "source": []
  }
 ],
 "metadata": {
  "kernelspec": {
   "display_name": "Python 3 (ipykernel)",
   "language": "python",
   "name": "python3"
  },
  "language_info": {
   "codemirror_mode": {
    "name": "ipython",
    "version": 3
   },
   "file_extension": ".py",
   "mimetype": "text/x-python",
   "name": "python",
   "nbconvert_exporter": "python",
   "pygments_lexer": "ipython3",
   "version": "3.9.13"
  },
  "vscode": {
   "interpreter": {
    "hash": "082e9a3bcad0a290d0001e938aa60b99250c6c2ef33a923c00b70f9826caf4b7"
   }
  }
 },
 "nbformat": 4,
 "nbformat_minor": 2
}
